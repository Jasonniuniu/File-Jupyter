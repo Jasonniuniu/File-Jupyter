{
 "cells": [
  {
   "cell_type": "code",
   "execution_count": 22,
   "metadata": {
    "collapsed": true
   },
   "outputs": [],
   "source": [
    "#Perceptron\n",
    "import numpy as np\n",
    "import matplotlib.pyplot as plt"
   ]
  },
  {
   "cell_type": "code",
   "execution_count": 31,
   "metadata": {},
   "outputs": [
    {
     "name": "stdout",
     "output_type": "stream",
     "text": [
      "[-0.16815663 -0.6772303   0.52670385]\n"
     ]
    }
   ],
   "source": [
    "#输入数据\n",
    "X = np.array ([ [1, 3, 3], [1, 4, 3], [1, 1, 1]]) \n",
    "#标签\n",
    "Y = np.array ([1, 1, -1])\n",
    "#权值初始化，1行3列，取值范围[-1,1]\n",
    "W = (np.random.random (3) -0.5) *2 \n",
    "print (W) \n",
    "#设置学习率、迭代次数、神经网络基础\n",
    "lr = 0.11 \n",
    "n = 0 \n",
    "O = 0 \n",
    "def update():\n",
    "    global X,Y,W,lr,n \n",
    "    n+=1 \n",
    "    O = np.sign (np.dot(X, W.T))\n",
    "    W_C = lr* ((Y-O.T).dot(X))/int(X.shape[0]) \n",
    "    W = W + W_C "
   ]
  },
  {
   "cell_type": "code",
   "execution_count": 32,
   "metadata": {},
   "outputs": [
    {
     "name": "stdout",
     "output_type": "stream",
     "text": [
      "当前权值： [-0.02148996 -0.16389697  0.96670385]\n",
      "迭代次数： 1\n",
      "当前权值： [-0.0948233  -0.2372303   0.89337052]\n",
      "迭代次数： 2\n",
      "当前权值： [-0.16815663 -0.31056364  0.82003719]\n",
      "迭代次数： 3\n",
      "当前权值： [-0.24148996 -0.38389697  0.74670385]\n",
      "迭代次数： 4\n",
      "当前权值： [-0.3148233  -0.4572303   0.67337052]\n",
      "迭代次数： 5\n",
      "当前权值： [-0.24148996 -0.16389697  0.89337052]\n",
      "迭代次数： 6\n",
      "当前权值： [-0.3148233  -0.2372303   0.82003719]\n",
      "迭代次数： 7\n",
      "当前权值： [-0.38815663 -0.31056364  0.74670385]\n",
      "迭代次数： 8\n",
      "当前权值： [-0.46148996 -0.38389697  0.67337052]\n",
      "迭代次数： 9\n",
      "Finished\n",
      "epoch: 9\n",
      "k= 0.570112528101\n",
      "d= 0.685343281614\n"
     ]
    },
    {
     "data": {
      "image/png": "[encoded data removed]",
      "text/plain": [
       "<matplotlib.figure.Figure at 0x2155c0e92e8>"
      ]
     },
     "metadata": {},
     "output_type": "display_data"
    }
   ],
   "source": [
    "for _ in range(100):\n",
    "    update() #更新权值\n",
    "    print (\"当前权值：\",W) #打印当前权值\n",
    "    print (\"迭代次数：\",n) #打印迭代次数\n",
    "    O = np.sign(np.dot(X, W.T)) #计算当前输出\n",
    "    if(O==Y.T).all(): #如果实际输出等于期望输出，模型收敛，循环结束\n",
    "        print(\"Finished\")\n",
    "        print(\"epoch:\",n)\n",
    "        break\n",
    "#正样本\n",
    "x1=[3,4]\n",
    "y1=[3,3]\n",
    "#负样本\n",
    "x2=[1]\n",
    "y2=[1]\n",
    "\n",
    "#计算分界线的斜率以及截距\n",
    "k=-W[1]/W[2]\n",
    "d=-W[0]/W[2]\n",
    "print('k=',k)\n",
    "print('d=',d)\n",
    "\n",
    "xdata=np.linspace(0,5)\n",
    "plt.figure()\n",
    "plt.plot(xdata,xdata*k+d,\"r\")\n",
    "plt.plot(x1,y1,'bo') #正样本蓝色散点表示\n",
    "plt.plot(x2,y2,'yo') #负样本蓝色散点表示\n",
    "plt.show()"
   ]
  },
  {
   "cell_type": "code",
   "execution_count": null,
   "metadata": {
    "collapsed": true
   },
   "outputs": [],
   "source": []
  }
 ],
 "metadata": {
  "kernelspec": {
   "display_name": "Python 3",
   "language": "python",
   "name": "python3"
  },
  "language_info": {
   "codemirror_mode": {
    "name": "ipython",
    "version": 3
   },
   "file_extension": ".py",
   "mimetype": "text/x-python",
   "name": "python",
   "nbconvert_exporter": "python",
   "pygments_lexer": "ipython3",
   "version": "3.6.4rc1"
  }
 },
 "nbformat": 4,
 "nbformat_minor": 2
}
