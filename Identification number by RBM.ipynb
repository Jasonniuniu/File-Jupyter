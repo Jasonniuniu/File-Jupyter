{
 "cells": [
  {
   "cell_type": "code",
   "execution_count": 1,
   "metadata": {
    "collapsed": true
   },
   "outputs": [],
   "source": [
    "import numpy as np\n",
    "import matplotlib.pyplot as plt\n",
    "\n",
    "from sklearn.model_selection import train_test_split\n",
    "from sklearn import metrics,linear_model\n",
    "from sklearn.neural_network import BernoulliRBM   #自带的RBM包\n",
    "from sklearn.datasets import load_digits          #sklearn自带数据集\n",
    "from sklearn.pipeline import Pipeline         \n",
    "\n"
   ]
  },
  {
   "cell_type": "code",
   "execution_count": 3,
   "metadata": {},
   "outputs": [],
   "source": [
    "digits = load_digits()  #下载数据集\n",
    "X = digits.data         #输入数据\n",
    "y = digits.target       #标签\n",
    "#输入数据归一化：把最初的数据都变为[0~1]之间的数据\n",
    "X -= X.min()   \n",
    "X /= X.max()  \n",
    "X_train, X_test, y_train, y_test = train_test_split(X, y)  #分割数据，75%为训练25%为测试\n",
    "\n",
    "#创建RBM模型\n",
    "logistic = linear_model.LogisticRegression() \n",
    "rbm = BernoulliRBM(random_state=0, verbose=True) \n",
    "classifier = Pipeline(steps=[('rbm', rbm), ('logistic',logistic)]) "
   ]
  },
  {
   "cell_type": "code",
   "execution_count": 5,
   "metadata": {},
   "outputs": [
    {
     "name": "stdout",
     "output_type": "stream",
     "text": [
      "[BernoulliRBM] Iteration 1, pseudo-likelihood = -28.46, time = 0.54s\n",
      "[BernoulliRBM] Iteration 2, pseudo-likelihood = -27.53, time = 0.09s\n",
      "[BernoulliRBM] Iteration 3, pseudo-likelihood = -27.57, time = 0.08s\n",
      "[BernoulliRBM] Iteration 4, pseudo-likelihood = -25.98, time = 0.10s\n",
      "[BernoulliRBM] Iteration 5, pseudo-likelihood = -24.55, time = 0.08s\n",
      "[BernoulliRBM] Iteration 6, pseudo-likelihood = -23.65, time = 0.08s\n",
      "[BernoulliRBM] Iteration 7, pseudo-likelihood = -23.62, time = 0.08s\n",
      "[BernoulliRBM] Iteration 8, pseudo-likelihood = -23.35, time = 0.08s\n",
      "[BernoulliRBM] Iteration 9, pseudo-likelihood = -23.21, time = 0.08s\n",
      "[BernoulliRBM] Iteration 10, pseudo-likelihood = -22.48, time = 0.08s\n",
      "[BernoulliRBM] Iteration 11, pseudo-likelihood = -22.27, time = 0.08s\n",
      "[BernoulliRBM] Iteration 12, pseudo-likelihood = -22.04, time = 0.08s\n",
      "[BernoulliRBM] Iteration 13, pseudo-likelihood = -22.82, time = 0.08s\n",
      "[BernoulliRBM] Iteration 14, pseudo-likelihood = -21.69, time = 0.08s\n",
      "[BernoulliRBM] Iteration 15, pseudo-likelihood = -21.94, time = 0.08s\n",
      "[BernoulliRBM] Iteration 16, pseudo-likelihood = -21.99, time = 0.11s\n",
      "[BernoulliRBM] Iteration 17, pseudo-likelihood = -21.78, time = 0.08s\n",
      "[BernoulliRBM] Iteration 18, pseudo-likelihood = -21.45, time = 0.09s\n",
      "[BernoulliRBM] Iteration 19, pseudo-likelihood = -21.58, time = 0.13s\n",
      "[BernoulliRBM] Iteration 20, pseudo-likelihood = -21.31, time = 0.14s\n"
     ]
    },
    {
     "data": {
      "text/plain": [
       "Pipeline(memory=None,\n",
       "     steps=[('rbm', BernoulliRBM(batch_size=10, learning_rate=0.06, n_components=200, n_iter=20,\n",
       "       random_state=0, verbose=True)), ('logistic', LogisticRegression(C=6000.0, class_weight=None, dual=False,\n",
       "          fit_intercept=True, intercept_scaling=1, max_iter=100,\n",
       "          multi_class='ovr', n_jobs=1, penalty='l2', random_state=None,\n",
       "          solver='liblinear', tol=0.0001, verbose=0, warm_start=False))])"
      ]
     },
     "execution_count": 5,
     "metadata": {},
     "output_type": "execute_result"
    }
   ],
   "source": [
    "rbm.learning_rate = 0.06  #设置学习率 \n",
    "rbm.n_iter = 20           #设置迭代次数\n",
    "rbm.n_components = 200    #设置隐藏层单元\n",
    "logistic.C = 6000.0       #\n",
    "classifier.fit (X_train,y_train) #训练模型\n"
   ]
  },
  {
   "cell_type": "code",
   "execution_count": 17,
   "metadata": {},
   "outputs": [
    {
     "name": "stdout",
     "output_type": "stream",
     "text": [
      "\n",
      "Logistic regression using RBM features:\n",
      "             precision    recall  f1-score   support\n",
      "\n",
      "          0       0.95      0.97      0.96        36\n",
      "          1       0.98      1.00      0.99        60\n",
      "          2       0.96      1.00      0.98        45\n",
      "          3       0.93      0.95      0.94        40\n",
      "          4       0.97      0.95      0.96        41\n",
      "          5       1.00      0.96      0.98        49\n",
      "          6       0.96      0.98      0.97        45\n",
      "          7       1.00      1.00      1.00        44\n",
      "          8       0.96      0.94      0.95        53\n",
      "          9       1.00      0.95      0.97        37\n",
      "\n",
      "avg / total       0.97      0.97      0.97       450\n",
      "\n",
      "\n",
      " \n"
     ]
    }
   ],
   "source": [
    "print()\n",
    "print(\"Logistic regression using RBM features:\\n%s\\n\"%(\n",
    "    metrics.classification_report(y_test,classifier.predict(X_test))\n",
    "                                                        ))\n",
    "\n",
    "\n"
   ]
  },
  {
   "cell_type": "code",
   "execution_count": 18,
   "metadata": {},
   "outputs": [
    {
     "name": "stdout",
     "output_type": "stream",
     "text": [
      "Help on function classification_report in module sklearn.metrics.classification:\n",
      "\n",
      "classification_report(y_true, y_pred, labels=None, target_names=None, sample_weight=None, digits=2)\n",
      "    Build a text report showing the main classification metrics\n",
      "    \n",
      "    Read more in the :ref:`User Guide <classification_report>`.\n",
      "    \n",
      "    Parameters\n",
      "    ----------\n",
      "    y_true : 1d array-like, or label indicator array / sparse matrix\n",
      "        Ground truth (correct) target values.\n",
      "    \n",
      "    y_pred : 1d array-like, or label indicator array / sparse matrix\n",
      "        Estimated targets as returned by a classifier.\n",
      "    \n",
      "    labels : array, shape = [n_labels]\n",
      "        Optional list of label indices to include in the report.\n",
      "    \n",
      "    target_names : list of strings\n",
      "        Optional display names matching the labels (same order).\n",
      "    \n",
      "    sample_weight : array-like of shape = [n_samples], optional\n",
      "        Sample weights.\n",
      "    \n",
      "    digits : int\n",
      "        Number of digits for formatting output floating point values\n",
      "    \n",
      "    Returns\n",
      "    -------\n",
      "    report : string\n",
      "        Text summary of the precision, recall, F1 score for each class.\n",
      "    \n",
      "        The reported averages are a prevalence-weighted macro-average across\n",
      "        classes (equivalent to :func:`precision_recall_fscore_support` with\n",
      "        ``average='weighted'``).\n",
      "    \n",
      "        Note that in binary classification, recall of the positive class\n",
      "        is also known as \"sensitivity\"; recall of the negative class is\n",
      "        \"specificity\".\n",
      "    \n",
      "    Examples\n",
      "    --------\n",
      "    >>> from sklearn.metrics import classification_report\n",
      "    >>> y_true = [0, 1, 2, 2, 2]\n",
      "    >>> y_pred = [0, 0, 2, 2, 1]\n",
      "    >>> target_names = ['class 0', 'class 1', 'class 2']\n",
      "    >>> print(classification_report(y_true, y_pred, target_names=target_names))\n",
      "                 precision    recall  f1-score   support\n",
      "    <BLANKLINE>\n",
      "        class 0       0.50      1.00      0.67         1\n",
      "        class 1       0.00      0.00      0.00         1\n",
      "        class 2       1.00      0.67      0.80         3\n",
      "    <BLANKLINE>\n",
      "    avg / total       0.70      0.60      0.61         5\n",
      "    <BLANKLINE>\n",
      "\n"
     ]
    }
   ],
   "source": [
    "help(metrics.classification_report)"
   ]
  },
  {
   "cell_type": "code",
   "execution_count": null,
   "metadata": {
    "collapsed": true
   },
   "outputs": [],
   "source": []
  }
 ],
 "metadata": {
  "kernelspec": {
   "display_name": "Python 3",
   "language": "python",
   "name": "python3"
  },
  "language_info": {
   "codemirror_mode": {
    "name": "ipython",
    "version": 3
   },
   "file_extension": ".py",
   "mimetype": "text/x-python",
   "name": "python",
   "nbconvert_exporter": "python",
   "pygments_lexer": "ipython3",
   "version": "3.6.3"
  }
 },
 "nbformat": 4,
 "nbformat_minor": 2
}
