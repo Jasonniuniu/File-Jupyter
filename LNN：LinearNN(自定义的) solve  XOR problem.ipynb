{
 "cells": [
  {
   "cell_type": "code",
   "execution_count": 15,
   "metadata": {
    "collapsed": true
   },
   "outputs": [],
   "source": [
    "#LinearNN solve  XOR problem\n",
    "import numpy as np\n",
    "import matplotlib.pyplot as plt"
   ]
  },
  {
   "cell_type": "code",
   "execution_count": 17,
   "metadata": {},
   "outputs": [
    {
     "name": "stdout",
     "output_type": "stream",
     "text": [
      "[ 0.8803499  -0.17709608  0.67783907  0.65848536  0.73792511  0.19308325]\n"
     ]
    }
   ],
   "source": [
    "#输入数据x0、x1、x2、x1的平方、x1乘以x2、x2的平方\n",
    "X = np.array ([[1,0,0,0,0,0], \n",
    "               [1,0,1,0,0,1], \n",
    "               [1,1,0,1,0,0],\n",
    "               [1,1,1,1,1,1]]) \n",
    "#标签\n",
    "Y = np.array ([-1,1,1,-1])\n",
    "#六个权值初始化，1行6列，取值范围[-1,1]\n",
    "W = (np.random.random (6) -0.5) *2 \n",
    "print (W) \n",
    "#设置学习率、迭代次数、神经网络基础\n",
    "lr = 0.11 \n",
    "n = 0 \n",
    "O = 0 \n",
    "def update():\n",
    "    global X,Y,W,lr,n \n",
    "    n+=1 \n",
    "    O = np.dot(X, W.T)  #y=x即不再需要感知器时用的激活函数np.sign\n",
    "    W_C = lr* ((Y-O.T).dot(X))/int(X.shape[0]) \n",
    "    W = W + W_C "
   ]
  },
  {
   "cell_type": "code",
   "execution_count": 20,
   "metadata": {},
   "outputs": [
    {
     "data": {
      "image/png": "[encoded data removed]",
      "text/plain": [
       "<matplotlib.figure.Figure at 0x25a0397b6a0>"
      ]
     },
     "metadata": {},
     "output_type": "display_data"
    },
    {
     "name": "stdout",
     "output_type": "stream",
     "text": [
      "LinearNN得到的label [-1.  1.  1. -1.]\n"
     ]
    }
   ],
   "source": [
    "for _ in range(100000):  #终止条件是循环1000次\n",
    "    update() #更新权值\n",
    "#正样本\n",
    "x1=[0,1]\n",
    "y1=[1,0]\n",
    "#负样本\n",
    "x2=[0,1]\n",
    "y2=[0,1]\n",
    "\n",
    "def calculate (x, root):  #根据求二次方程式的解算出来的\n",
    "    a = W[5] \n",
    "    b = W[2]-x*W[4] \n",
    "    c = W[0]+x*W[1]+x*x*W [3] \n",
    "    if root==1: \n",
    "        return(-b+np.sqrt(b*b-4*a*c))/(2*a) \n",
    "    if root==2: \n",
    "        return(-b-np.sqrt(b*b-4*a*c))/(2*a) \n",
    "\n",
    "xdata=np.linspace(-1,2)\n",
    "plt.figure()\n",
    "plt.plot(xdata,calculate(xdata,1),\"r\")\n",
    "plt.plot(xdata,calculate(xdata,2),\"g\")\n",
    "\n",
    "plt.plot(x1,y1,'bo') #正样本蓝色散点表示\n",
    "plt.plot(x2,y2,'yo') #负样本蓝色散点表示\n",
    "plt.title(\"LinearNN solve  XOR problem——Jason Niu\")\n",
    "plt.show()\n",
    "O=np.dot(X,W.T)\n",
    "print(\"LinearNN得到的label\",O)"
   ]
  },
  {
   "cell_type": "code",
   "execution_count": null,
   "metadata": {},
   "outputs": [],
   "source": []
  },
  {
   "cell_type": "code",
   "execution_count": null,
   "metadata": {
    "collapsed": true
   },
   "outputs": [],
   "source": []
  }
 ],
 "metadata": {
  "kernelspec": {
   "display_name": "Python 3",
   "language": "python",
   "name": "python3"
  },
  "language_info": {
   "codemirror_mode": {
    "name": "ipython",
    "version": 3
   },
   "file_extension": ".py",
   "mimetype": "text/x-python",
   "name": "python",
   "nbconvert_exporter": "python",
   "pygments_lexer": "ipython3",
   "version": "3.6.4rc1"
  }
 },
 "nbformat": 4,
 "nbformat_minor": 2
}
