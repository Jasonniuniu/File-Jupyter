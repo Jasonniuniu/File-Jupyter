{
 "cells": [
  {
   "cell_type": "code",
   "execution_count": 4,
   "metadata": {
    "collapsed": true
   },
   "outputs": [],
   "source": [
    "#DL：基于HNN将凌乱数字矩阵图像(模拟手写数字图片)实现转为最相近的阿拉伯数字\n",
    "import numpy as np\n",
    "import neurolab as nl\n",
    "import matplotlib.pyplot as plt"
   ]
  },
  {
   "cell_type": "code",
   "execution_count": 17,
   "metadata": {},
   "outputs": [
    {
     "data": {
      "image/png": "[encoded data removed]",
      "text/plain": [
       "<matplotlib.figure.Figure at 0x1f8ff439630>"
      ]
     },
     "metadata": {},
     "output_type": "display_data"
    }
   ],
   "source": [
    "# 012数字形矩阵————————16*8改为6*5\n",
    "target=np.array([[0, 1, 1, 1, 0,\n",
    "                 1, 0, 0, 0, 1,\n",
    "                 1, 0, 0, 0, 1,\n",
    "                 1, 0, 0, 0, 1,\n",
    "                 1, 0, 0, 0, 1,\n",
    "                 0, 1, 1, 1, 0],\n",
    "                 \n",
    "                 [0, 1, 1, 0, 0,\n",
    "                  0, 0, 1, 0, 0,\n",
    "                  0, 0, 1, 0, 0,\n",
    "                  0, 0, 1, 0, 0,\n",
    "                  0, 0, 1, 0, 0,\n",
    "                  0, 0, 1, 0, 0],\n",
    "                 \n",
    "                 [1, 1, 1, 0, 0,\n",
    "                  0, 0, 0, 1, 0,\n",
    "                  0, 0, 0, 1, 0,\n",
    "                  0, 1, 1, 0, 0,\n",
    "                  1, 0, 0, 0, 0,\n",
    "                  1, 1, 1, 1, 1]])\n",
    "test_data0=np.asfarray([0, 0, 1, 1, 0,\n",
    "                        1, 0, 1, 0, 0,\n",
    "                        1, 0, 0, 0, 1,\n",
    "                        1, 0, 1, 0, 0,\n",
    "                        1, 0, 0, 0, 1,\n",
    "                        0, 1, 0, 1, 1])\n",
    "test_data1=np.asfarray([0, 1, 1, 0, 0,\n",
    "                        0, 0, 0, 0, 0,\n",
    "                        0, 1, 1, 0, 0,\n",
    "                        0, 0, 0, 0, 1,\n",
    "                        1, 0, 1, 0, 0,\n",
    "                        0, 0, 1, 0, 0])\n",
    "test_data2=np.asfarray([1, 0, 1, 0, 0,\n",
    "                        0, 0, 0, 1, 0,\n",
    "                        1, 0, 0, 1, 0,\n",
    "                        0, 1, 1, 0, 1,\n",
    "                        1, 0, 0, 0, 1,\n",
    "                        1, 0, 0, 1, 0])\n",
    "#ax3~ax5\n",
    "target[target==0]=-1       #因为hopfield网络值是1和-1，所以将target矩阵内所有0变为-1\n",
    "HNN=nl.net.newhop(target)  #调用已有的hopfield神经网络，吸引子为target即先前定义好的012数字形矩阵—\n",
    "\n",
    "#ax6~ax8\n",
    "test_data0[test_data0==0]=-1                 #将test_data0矩阵内所有0变为-1\n",
    "out0=np.reshape(HNN.sim([test_data0]),(6,5)) #测试数据集输入到hopfield网络得到输出\n",
    "test_data1[test_data1==0]=-1                 #将test_data0矩阵内所有0变为-1\n",
    "out1=np.reshape(HNN.sim([test_data1]),(6,5)) #测试数据集输入到hopfield网络得到输出\n",
    "test_data2[test_data2==0]=-1                 #将test_data0矩阵内所有0变为-1\n",
    "out2=np.reshape(HNN.sim([test_data2]),(6,5)) #测试数据集输入到hopfield网络得到输出\n",
    "\n",
    "fig,axes =plt.subplots(3,3,figsize=(6,5)) \n",
    "ax0, ax1, ax2, ax3, ax4, ax5, ax6, ax7,ax8 = axes.ravel()\n",
    "\n",
    "ax0.imshow(np.reshape(target[0],(6,5)),cmap=plt.cm.gray, interpolation='nearest')\n",
    "ax0.set_title(\"Standard object 0\") \n",
    "ax1.imshow(np.reshape(target[1],(6,5)),cmap=plt.cm.gray, interpolation='nearest')\n",
    "ax1.set_title(\"Standard object 1\") \n",
    "ax2.imshow(np.reshape(target[2],(6,5)),cmap=plt.cm.gray, interpolation='nearest')\n",
    "ax2.set_title(\"Standard object 2\") \n",
    "\n",
    "ax3.imshow(np.reshape(test_data0,(6,5)),cmap=plt.cm.gray, interpolation='nearest')\n",
    "ax3.set_title(\"Test object first\") \n",
    "ax4.imshow(np.reshape(test_data1,(6,5)),cmap=plt.cm.gray, interpolation='nearest')\n",
    "ax4.set_title(\"Test object second\") \n",
    "ax5.imshow(np.reshape(test_data2,(6,5)),cmap=plt.cm.gray, interpolation='nearest')\n",
    "ax5.set_title(\"Test object third\") \n",
    "\n",
    "ax6.imshow(out0,cmap=plt.cm.gray, interpolation='nearest')\n",
    "ax6.set_title(\"after HNN\")  #DL: Based on HNN, turn to the closest Arabia number 0\n",
    "ax7.imshow(out1,cmap=plt.cm.gray, interpolation='nearest')\n",
    "ax7.set_title(\"after HNN\") \n",
    "ax8.imshow(out2,cmap=plt.cm.gray, interpolation='nearest')\n",
    "ax8.set_title(\"after HNN\") \n",
    "\n",
    "fig.tight_layout() #轴域的位置自动调整\n",
    "#plt.suptitle(\"DL: Based on HNN, turn to the closest Arabia number By Jason Niu\")  #设置总图标题\n",
    "plt.show()\n"
   ]
  },
  {
   "cell_type": "code",
   "execution_count": null,
   "metadata": {
    "collapsed": true
   },
   "outputs": [],
   "source": []
  }
 ],
 "metadata": {
  "kernelspec": {
   "display_name": "Python 3",
   "language": "python",
   "name": "python3"
  },
  "language_info": {
   "codemirror_mode": {
    "name": "ipython",
    "version": 3
   },
   "file_extension": ".py",
   "mimetype": "text/x-python",
   "name": "python",
   "nbconvert_exporter": "python",
   "pygments_lexer": "ipython3",
   "version": "3.6.3"
  }
 },
 "nbformat": 4,
 "nbformat_minor": 2
}
