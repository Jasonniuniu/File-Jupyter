{
 "cells": [
  {
   "cell_type": "code",
   "execution_count": 30,
   "metadata": {
    "collapsed": true
   },
   "outputs": [],
   "source": [
    "#DL：基于HNN将凌乱数字矩阵图像(模拟手写数字图片)实现转为最相近的阿拉伯数字\n",
    "import numpy as np\n",
    "import neurolab as nl\n",
    "import matplotlib.pyplot as plt"
   ]
  },
  {
   "cell_type": "code",
   "execution_count": 31,
   "metadata": {},
   "outputs": [
    {
     "data": {
      "image/png": "[encoded data removed]",
      "text/plain": [
       "<matplotlib.figure.Figure at 0x264988351d0>"
      ]
     },
     "metadata": {},
     "output_type": "display_data"
    },
    {
     "data": {
      "image/png": "[encoded data removed]",
      "text/plain": [
       "<matplotlib.figure.Figure at 0x2649889b0f0>"
      ]
     },
     "metadata": {},
     "output_type": "display_data"
    },
    {
     "data": {
      "image/png": "[encoded data removed]",
      "text/plain": [
       "<matplotlib.figure.Figure at 0x26498797a20>"
      ]
     },
     "metadata": {},
     "output_type": "display_data"
    }
   ],
   "source": [
    "# 012数字形矩阵————————16*8改为6*5\n",
    "target=np.array([[0, 1, 1, 1, 0,\n",
    "                 1, 0, 0, 0, 1,\n",
    "                 1, 0, 0, 0, 1,\n",
    "                 1, 0, 0, 0, 1,\n",
    "                 1, 0, 0, 0, 1,\n",
    "                 0, 1, 1, 1, 0],\n",
    "                 \n",
    "                 [0, 1, 1, 0, 0,\n",
    "                  0, 0, 1, 0, 0,\n",
    "                  0, 0, 1, 0, 0,\n",
    "                  0, 0, 1, 0, 0,\n",
    "                  0, 0, 1, 0, 0,\n",
    "                  0, 0, 1, 0, 0],\n",
    "                 \n",
    "                 [1, 1, 1, 0, 0,\n",
    "                  0, 0, 0, 1, 0,\n",
    "                  0, 0, 0, 1, 0,\n",
    "                  0, 1, 1, 0, 0,\n",
    "                  1, 0, 0, 0, 0,\n",
    "                  1, 1, 1, 1, 1]])\n",
    "#绘制\n",
    "def visualized(data, title): \n",
    "    fig,ax=plt.subplots() \n",
    "    ax.imshow(data, cmap=plt.cm.gray,interpolation='nearest') #nearest即临近的两点插值法\n",
    "    ax.set_title(title) \n",
    "    plt.show() \n",
    "#HNN中定义的吸引值就是显示的这三张黑白数字图片0、1、2\n",
    "for i in range(len(target)): \n",
    "    visualized(np.reshape(target[i],(6,5)),\"Standard object:\"+str(i))\n"
   ]
  },
  {
   "cell_type": "code",
   "execution_count": 32,
   "metadata": {},
   "outputs": [
    {
     "data": {
      "image/png": "[encoded data removed]",
      "text/plain": [
       "<matplotlib.figure.Figure at 0x2649852a668>"
      ]
     },
     "metadata": {},
     "output_type": "display_data"
    },
    {
     "data": {
      "image/png": "[encoded data removed]",
      "text/plain": [
       "<matplotlib.figure.Figure at 0x26496acd320>"
      ]
     },
     "metadata": {},
     "output_type": "display_data"
    },
    {
     "data": {
      "image/png": "[encoded data removed]",
      "text/plain": [
       "<matplotlib.figure.Figure at 0x26498988e48>"
      ]
     },
     "metadata": {},
     "output_type": "display_data"
    }
   ],
   "source": [
    "#hopfield网络值是1和-1\n",
    "target[target==0]=-1       #将target矩阵内所有0变为-1\n",
    "HNN=nl.net.newhop(target)  #调用已有的hopfield神经网络，吸引子为target即先前定义好的012数字形矩阵—\n",
    "\n",
    "#定义三个测试数据\n",
    "test_data0=np.asfarray([0, 0, 1, 1, 0,\n",
    "                        1, 0, 1, 0, 0,\n",
    "                        1, 0, 0, 0, 1,\n",
    "                        1, 0, 1, 0, 0,\n",
    "                        1, 0, 0, 0, 1,\n",
    "                        0, 1, 0, 1, 1])\n",
    "test_data1=np.asfarray([0, 1, 1, 0, 0,\n",
    "                        0, 0, 0, 0, 0,\n",
    "                        0, 1, 1, 0, 0,\n",
    "                        0, 0, 0, 0, 1,\n",
    "                        1, 0, 1, 0, 0,\n",
    "                        0, 0, 1, 0, 0])\n",
    "test_data2=np.asfarray([1, 0, 1, 0, 0,\n",
    "                        0, 0, 0, 1, 0,\n",
    "                        1, 0, 0, 1, 0,\n",
    "                        0, 1, 1, 0, 1,\n",
    "                        1, 0, 0, 0, 1,\n",
    "                        1, 0, 0, 1, 0])\n",
    "\n",
    "#显示测试数据集,有时候会掉入伪限制里面出不来即不能识别数字\n",
    "visualized(np.reshape(test_data0,(6,5)),\"Test object first\")\n",
    "visualized(np.reshape(test_data1,(6,5)),\"Test object second\")\n",
    "visualized(np.reshape(test_data2,(6,5)),\"Test object third\")"
   ]
  },
  {
   "cell_type": "code",
   "execution_count": 34,
   "metadata": {},
   "outputs": [
    {
     "ename": "IndentationError",
     "evalue": "expected an indented block (<ipython-input-34-d69313c6730a>, line 21)",
     "output_type": "error",
     "traceback": [
      "\u001b[1;36m  File \u001b[1;32m\"<ipython-input-34-d69313c6730a>\"\u001b[1;36m, line \u001b[1;32m21\u001b[0m\n\u001b[1;33m    visualized(np.reshape(out2,(6,5)),\"DL: Based on HNN, turn to the closest Arabia number 2\")\u001b[0m\n\u001b[1;37m                                                                                               ^\u001b[0m\n\u001b[1;31mIndentationError\u001b[0m\u001b[1;31m:\u001b[0m expected an indented block\n"
     ]
    }
   ],
   "source": [
    "test_data0[test_data0==0]=-1        #将test_data0矩阵内所有0变为-1\n",
    "out0=HNN.sim([test_data0])          #测试数据集输入到hopfield网络得到输出\n",
    "for i in range(len(target)):        #判断测试集数字是多少\n",
    "    if((out0==target[i]).all()):    #测试集与训练集比较，如果完全等于则输出\n",
    "       print(\"test_data is:\",i)\n",
    "visualized(np.reshape(out0,(6,5)),\"DL: Based on HNN, turn to the closest Arabia number 0\") #显示输出\n",
    "\n",
    "\n",
    "test_data1[test_data1==0]=-1 \n",
    "out1=HNN.sim([test_data1]) \n",
    "for i in range(len(target)):  \n",
    "    if((out1==target[i]).all()):\n",
    "       print(\"test_data is:\",i)\n",
    "visualized(np.reshape(out1,(6,5)),\"DL: Based on HNN, turn to the closest Arabia number 1\") \n",
    "\n",
    "test_data2[test_data2==0]=-1 \n",
    "out2=HNN.sim([test_data2]) \n",
    "for i in range(len(target)):  \n",
    "    if((out2==target[i]).all()):\n",
    "       print(\"test_data is:\",i)\n",
    "visualized(np.reshape(out2,(6,5)),\"DL: Based on HNN, turn to the closest Arabia number 2\") "
   ]
  },
  {
   "cell_type": "code",
   "execution_count": null,
   "metadata": {
    "collapsed": true
   },
   "outputs": [],
   "source": []
  }
 ],
 "metadata": {
  "kernelspec": {
   "display_name": "Python 3",
   "language": "python",
   "name": "python3"
  },
  "language_info": {
   "codemirror_mode": {
    "name": "ipython",
    "version": 3
   },
   "file_extension": ".py",
   "mimetype": "text/x-python",
   "name": "python",
   "nbconvert_exporter": "python",
   "pygments_lexer": "ipython3",
   "version": "3.6.3"
  }
 },
 "nbformat": 4,
 "nbformat_minor": 2
}
