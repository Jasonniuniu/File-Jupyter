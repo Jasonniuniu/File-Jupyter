{
 "cells": [
  {
   "cell_type": "code",
   "execution_count": 4,
   "metadata": {},
   "outputs": [
    {
     "name": "stdout",
     "output_type": "stream",
     "text": [
      "[1.94422221e+01 5.29150262e+00 1.86910323e-15 4.48702001e-16\n",
      " 8.62587679e-18]\n"
     ]
    }
   ],
   "source": [
    "import numpy as np\n",
    "def load_data():\n",
    "    return [    [0,0,0,1,1],\n",
    "                [0,0,0,2,2],\n",
    "                [0,0,0,3,3],\n",
    "                [4,4,4,0,0],\n",
    "                [5,5,5,0,0],\n",
    "                [6,6,6,0,0],\n",
    "                [7,7,7,0,0]]\n",
    "data = load_data()\n",
    "u, sigma, vt = np.linalg.svd(data)   #Sigma是个矩阵，Python内部的机制，为了节省空间，因为它除了对角线都是0\n",
    "print(sigma)#前两个值比后三个值大的多，所以可以取这两个奇异值，把其余三个置0。"
   ]
  },
  {
   "cell_type": "code",
   "execution_count": null,
   "metadata": {},
   "outputs": [],
   "source": []
  }
 ],
 "metadata": {
  "kernelspec": {
   "display_name": "Python 3",
   "language": "python",
   "name": "python3"
  },
  "language_info": {
   "codemirror_mode": {
    "name": "ipython",
    "version": 3
   },
   "file_extension": ".py",
   "mimetype": "text/x-python",
   "name": "python",
   "nbconvert_exporter": "python",
   "pygments_lexer": "ipython3",
   "version": "3.6.4rc1"
  }
 },
 "nbformat": 4,
 "nbformat_minor": 2
}
