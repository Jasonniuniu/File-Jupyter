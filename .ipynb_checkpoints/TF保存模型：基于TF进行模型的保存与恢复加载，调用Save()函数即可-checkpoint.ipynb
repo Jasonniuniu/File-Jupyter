{
 "cells": [
  {
   "cell_type": "code",
   "execution_count": null,
   "metadata": {
    "collapsed": true
   },
   "outputs": [],
   "source": [
    "#TF保存模型：基于TF进行模型的保存与恢复加载，调用Save()函数即可\n",
    "init = tf.global_variables_initializer()\n",
    "saver = tf.train.Saver()\n",
    " \n",
    "with tf.Session() as sess:\n",
    "    sess.run(init)\n",
    "    \n",
    "    for epoch in range(n_epochs):\n",
    "        if epoch % 100 == 0:\n",
    "            print ( \"Epoch\", epoch, \"MSE =\",mse.eval()) #保存运行过程\n",
    "            save_path = saver.save(sess, '/my_model.ckpt')\n",
    "        sess.run(training_op)\n",
    "        \n",
    "    best_theta = theta.eval()\n",
    "    save_path = saver.save(sess, './my_model_final.ckpt') #保存最后结果\n",
    "\n",
    "#模型加载\n",
    "with tf.Session as sess:\n",
    "    saver.restore(sess, '/tmp/my_model_final.ckpt')\n",
    "    best_theta_restored = theta.eval() \n",
    "    \n",
    "saver = tf.train.Saver({\"weights\":theta}) \n",
    "\n",
    "#恢复文件\n",
    "reset_graph()\n",
    "saver = tf.train.import_meta_graph(\"/tmp/my_model_final.ckpt.meta\") \n",
    "theta = tf.get_default_graph().get_tensor_by_name(\"theta:0\")     #把theta权重变量恢复进来\n"
   ]
  }
 ],
 "metadata": {
  "kernelspec": {
   "display_name": "Python 3",
   "language": "python",
   "name": "python3"
  },
  "language_info": {
   "codemirror_mode": {
    "name": "ipython",
    "version": 3
   },
   "file_extension": ".py",
   "mimetype": "text/x-python",
   "name": "python",
   "nbconvert_exporter": "python",
   "pygments_lexer": "ipython3",
   "version": "3.6.3"
  }
 },
 "nbformat": 4,
 "nbformat_minor": 2
}
