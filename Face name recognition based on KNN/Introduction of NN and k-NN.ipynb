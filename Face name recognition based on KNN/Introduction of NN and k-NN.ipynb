{
 "cells": [
  {
   "cell_type": "code",
   "execution_count": 4,
   "metadata": {},
   "outputs": [],
   "source": [
    "import numpy as np\n",
    "import mglearn \n",
    "import matplotlib.pyplot as plt"
   ]
  },
  {
   "cell_type": "code",
   "execution_count": 12,
   "metadata": {},
   "outputs": [
    {
     "data": {
      "image/png": "[encoded data removed]",
      "text/plain": [
       "<Figure size 432x288 with 1 Axes>"
      ]
     },
     "metadata": {},
     "output_type": "display_data"
    }
   ],
   "source": [
    "x=np.array([[1.5,48],[1.56,51],[1.6,48],[1.67,60],[1.7,65],[1.75,70]])\n",
    "y=np.array([1,1,1,0,0,0])\n",
    "mglearn.discrete_scatter(x[:,0],x[:,1],y)  #横坐标数据x[:,0]表示提取第一列的所有行，纵坐标数据为第二列，y显示label\n",
    "\n",
    "plt.legend([\"Man\",\"Woman\"])  #图列\n",
    "plt.xlabel(\"Height\")\n",
    "plt.ylabel(\"Weight\")\n",
    "plt.rcParams['font.sans-serif']=['SimHei'] \n",
    "plt.title(\"mglearn：基于mglearn绘制散点图——Jason Niu\")\n",
    "plt.show()\n"
   ]
  },
  {
   "cell_type": "code",
   "execution_count": 13,
   "metadata": {},
   "outputs": [],
   "source": [
    "from sklearn.neighbors import KNeighborsClassifier  "
   ]
  },
  {
   "cell_type": "code",
   "execution_count": 22,
   "metadata": {},
   "outputs": [
    {
     "data": {
      "text/plain": [
       "array([1])"
      ]
     },
     "execution_count": 22,
     "metadata": {},
     "output_type": "execute_result"
    }
   ],
   "source": [
    "neigh=KNeighborsClassifier(n_neighbors=1)  #利用k邻近算法分类器训练模型\n",
    "neigh.fit(x,y)\n",
    "neigh.predict([[1.55,48]])   #传入新数据进行预测"
   ]
  },
  {
   "cell_type": "code",
   "execution_count": 24,
   "metadata": {},
   "outputs": [
    {
     "name": "stdout",
     "output_type": "stream",
     "text": [
      "X空间点，与s集合空间点最近距离及其对应点 (array([[1.41421356],\n",
      "       [8.06225775]]), array([[0],\n",
      "       [2]], dtype=int64))\n"
     ]
    }
   ],
   "source": [
    "from sklearn.neighbors import NearestNeighbors  #最近距离算法\n",
    "\n",
    "s=[[0,0,0],[0,0.5,0],[1,1,5],[10,10,0]]\n",
    "neigh=NearestNeighbors(n_neighbors=1)  #\n",
    "neigh.fit(s)\n",
    "X=[[1,0,1],[1,9,4]]\n",
    " #打印出X与集合S中各空间点，最近的距离、对应某点\n",
    "print(\"X空间点，与s集合空间点最近距离及其对应点\",neigh.kneighbors(X)) "
   ]
  },
  {
   "cell_type": "code",
   "execution_count": null,
   "metadata": {},
   "outputs": [],
   "source": []
  }
 ],
 "metadata": {
  "kernelspec": {
   "display_name": "Python 3",
   "language": "python",
   "name": "python3"
  },
  "language_info": {
   "codemirror_mode": {
    "name": "ipython",
    "version": 3
   },
   "file_extension": ".py",
   "mimetype": "text/x-python",
   "name": "python",
   "nbconvert_exporter": "python",
   "pygments_lexer": "ipython3",
   "version": "3.6.4rc1"
  }
 },
 "nbformat": 4,
 "nbformat_minor": 2
}
