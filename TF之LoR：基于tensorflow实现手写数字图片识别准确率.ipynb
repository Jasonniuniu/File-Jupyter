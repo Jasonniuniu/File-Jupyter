{
 "cells": [
  {
   "cell_type": "code",
   "execution_count": null,
   "metadata": {
    "collapsed": true
   },
   "outputs": [],
   "source": [
    "# -*- coding: utf-8 -*-\n",
    "\n",
    "#TF之LoR：基于tensorflow实现手写数字图片识别准确率\n",
    "\n",
    "import os\n",
    "os.environ['TF_CPP_MIN_LOG_LEVEL'] = '2'\n",
    " \n",
    "import tensorflow as tf\n",
    "from tensorflow.examples.tutorials.mnist import input_data\n",
    "import numpy as np  \n",
    "import matplotlib.pyplot as plt "
   ]
  },
  {
   "cell_type": "code",
   "execution_count": null,
   "metadata": {
    "collapsed": true
   },
   "outputs": [],
   "source": [
    "mnist = input_data.read_data_sets('MNIST_data', one_hot=True)\n",
    "print(mnist)\n",
    " \n",
    "#设置超参数\n",
    "lr=0.001                      #学习率\n",
    "training_iters=20       #训练次数\n",
    "batch_size=100                #每轮训练数据的大小，如果一次训练5000张图片，电脑会卡死，分批次训练会更好\n",
    "display_step=1\n",
    "\n",
    "#tf Graph的输入\n",
    "x=tf.placeholder(tf.float32, [None,784])\n",
    "y=tf.placeholder(tf.float32, [None, 10])\n",
    " \n",
    "#设置权重和偏置\n",
    "w =tf.Variable(tf.zeros([784,10]))\n",
    "b =tf.Variable(tf.zeros([10]))\n",
    "\n",
    "#设定运行模式\n",
    "pred =tf.nn.softmax(tf.matmul(x,w)+b)  #\n",
    "#设置cost function为cross entropy\n",
    "cost =tf.reduce_mean(-tf.reduce_sum(y*tf.log(pred),reduction_indices=1))\n",
    "#GD算法\n",
    "optimizer=tf.train.GradientDescentOptimizer(lr).minimize(cost) \n",
    "\n",
    "#初始化权重\n",
    "init=tf.global_variables_initializer() \n",
    "#开始训练\n",
    "with tf.Session() as sess: \n",
    "    sess.run(init)\n",
    "    avg_cost_list=[]\n",
    "    for epoch in range(training_iters):  #输入所有训练数据\n",
    "        avg_cost=0.\n",
    "        total_batch=int(mnist.train.num_examples/batch_size)\n",
    "    \n",
    "        for i in range(total_batch): #遍历每个batch\n",
    "            batch_xs,batch_ys=mnist.train.next_batch(batch_size)\n",
    "            _, c=sess.run([optimizer,cost],feed_dict={x:batch_xs,y:batch_ys}) #把每个batch数据放进去训练\n",
    "            avg_cost+=c/total_batch\n",
    "        if (epoch+1) % display_step ==0:  #显示每次迭代日志\n",
    "            print(\"迭代次数Epoch:\",\"%04d\" % (epoch+1),\"下降值cost=\",\"{:.9f}\".format(avg_cost))\n",
    "            avg_cost_list.append(avg_cost)\n",
    "    print(\"Optimizer Finished!\")\n",
    "    print(avg_cost_list)\n",
    "    \n",
    "    #测试模型\n",
    "    correct_prediction=tf.equal(tf.argmax(pred,1),tf.argmax(y,1))\n",
    "    accuracy=tf.reduce_mean(tf.cast(correct_prediction,tf.float32))\n",
    "    print(\"Accuracy:\",accuracy.eval({x:mnist.test.images[:3000],y:mnist.test.labels[:3000]}))\n",
    "    \n",
    "    xdata=np.linspace(0,training_iters,num=len(avg_cost_list))  \n",
    "    plt.figure()  \n",
    "    plt.plot(xdata,avg_cost_list,'r')\n",
    "    plt.xlabel('训练轮数')\n",
    "    plt.ylabel('损失函数')\n",
    " \n",
    "    plt.rcParams['font.sans-serif']=['SimHei']  #手动添加中文字体，或者['font.sans-serif'] = ['FangSong']  \n",
    "    plt.rcParams['axes.unicode_minus'] = False  #对坐标轴的负号进行正常显示  \n",
    "    plt.title('TF之LoR：基于tensorflow实现手写数字图片识别准确率——Jason Niu')          #添加标题，标题默认输出英文  \n",
    "    plt.show()"
   ]
  },
  {
   "cell_type": "code",
   "execution_count": null,
   "metadata": {
    "collapsed": true
   },
   "outputs": [],
   "source": []
  }
 ],
 "metadata": {
  "kernelspec": {
   "display_name": "Python 3",
   "language": "python",
   "name": "python3"
  },
  "language_info": {
   "codemirror_mode": {
    "name": "ipython",
    "version": 3
   },
   "file_extension": ".py",
   "mimetype": "text/x-python",
   "name": "python",
   "nbconvert_exporter": "python",
   "pygments_lexer": "ipython3",
   "version": "3.6.3"
  }
 },
 "nbformat": 4,
 "nbformat_minor": 2
}
