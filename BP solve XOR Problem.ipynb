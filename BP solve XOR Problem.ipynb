{
 "cells": [
  {
   "cell_type": "code",
   "execution_count": 21,
   "metadata": {},
   "outputs": [
    {
     "name": "stdout",
     "output_type": "stream",
     "text": [
      "[[-2.69729363 -7.07754362 -1.19524011 -2.68732457]\n",
      " [ 0.42296258 -0.25875845 -1.87618554 -3.90503506]\n",
      " [-3.67092661 -3.21406251 -3.37963244  1.22443434]]\n",
      "[[ 0.90209502]\n",
      " [-2.03213774]\n",
      " [-3.12342573]\n",
      " [ 0.42495597]]\n"
     ]
    }
   ],
   "source": [
    "#BP solve XOR Problem\n",
    "import numpy as np\n",
    "\n",
    "#输入数据，第一列的数字1表示偏置\n",
    "X = np.array ([[1, 0, 0], \n",
    "               [1, 0, 1], \n",
    "               [1, 1, 0],\n",
    "               [1, 1, 1]]) \n",
    "#标签\n",
    "Y = np.array ([[0, 1, 1, 0]]) #两个中括号代表二维。分别对应00、01、10、11\n",
    "#权值初始化，3行4列，取值范围[-1,1]\n",
    "V = np.random.randn(3,4)*2-1\n",
    "W = np.random.randn(4,1)*2-1\n",
    "print (V) \n",
    "print (W) \n",
    "#设置学习率\n",
    "lr = 0.11 \n",
    "\n",
    "def sigmoid(x):\n",
    "    return 1/(1+np.exp(-x))\n",
    "def dsigmoid(x):\n",
    "    return x*(1-x)\n",
    "               \n",
    "def update():  #更新权值的函数\n",
    "    global X,Y,W,V,lr   #当自定义的函数需要调用外部的参数时，需要利用global进行声明为全局变量\n",
    "    L1=sigmoid(np.dot(X,V))  #隐藏层输出4*4\n",
    "    L2=sigmoid(np.dot(L1,W)) #输出层输出4*1\n",
    "    L2_delta=(Y.T-L2)*dsigmoid(L2)   #Y.T就是Y的转置\n",
    "    L1_delta=L2_delta.dot(W.T)*dsigmoid(L1)\n",
    "    \n",
    "    W_C=lr*L1.T.dot(L2_delta)\n",
    "    V_C=lr*X.T.dot(L1_delta)\n",
    "    W=W+W_C\n",
    "    V=V+V_C"
   ]
  },
  {
   "cell_type": "code",
   "execution_count": 23,
   "metadata": {},
   "outputs": [
    {
     "name": "stdout",
     "output_type": "stream",
     "text": [
      "error: 0.0439826522484\n",
      "error: 0.0419470357701\n",
      "error: 0.0401739696476\n",
      "error: 0.0386112000106\n",
      "error: 0.0372199857974\n",
      "error: 0.0359709131269\n",
      "error: 0.0348411919068\n",
      "error: 0.0338128521834\n",
      "error: 0.0328715066399\n",
      "error: 0.0320054805961\n",
      "error: 0.0312051871378\n",
      "error: 0.0304626697214\n",
      "error: 0.0297712616574\n",
      "error: 0.0291253287358\n",
      "error: 0.0285200720097\n",
      "error: 0.0279513747907\n",
      "error: 0.0274156825949\n",
      "error: 0.0269099079641\n",
      "error: 0.0264313542879\n",
      "error: 0.0259776542994\n",
      "error: 0.0255467200127\n",
      "error: 0.0251367016683\n",
      "error: 0.0247459538307\n",
      "error: 0.024373007208\n",
      "error: 0.0240165450867\n",
      "error: 0.0236753835131\n",
      "error: 0.0233484545362\n",
      "error: 0.0230347919684\n",
      "error: 0.0227335192282\n",
      "error: 0.0224438389144\n",
      "error: 0.022165023827\n",
      "error: 0.0218964092036\n",
      "error: 0.0216373859813\n",
      "error: 0.0213873949274\n",
      "error: 0.0211459215095\n",
      "error: 0.020912491398\n",
      "error: 0.0206866665091\n",
      "error: 0.0204680415149\n",
      "error: 0.0202562407561\n",
      "error: 0.020050915503\n",
      "[[ 0.02271814]\n",
      " [ 0.98087108]\n",
      " [ 0.98048571]\n",
      " [ 0.01804718]]\n",
      "0\n",
      "1\n",
      "1\n",
      "0\n"
     ]
    }
   ],
   "source": [
    "for i in range(20000):\n",
    "    update() #更新权值\n",
    "    if i%500==0:\n",
    "        L1=sigmoid(np.dot(X,V))  #隐藏层输出4*4\n",
    "        L2=sigmoid(np.dot(L1,W)) #输出层输出4*1\n",
    "        print(\"error:\",np.mean(np.abs(Y.T-L2)))\n",
    "        \n",
    "L1=sigmoid(np.dot(X,V))  #隐藏层输出4*4\n",
    "L2=sigmoid(np.dot(L1,W)) #输出层输出4*1\n",
    "print(L2)\n",
    "\n",
    "def judge(x):\n",
    "    if x>=0.5:\n",
    "        return 1\n",
    "    else:\n",
    "        return 0\n",
    "for i in map(judge,L2):\n",
    "    print(i)"
   ]
  }
 ],
 "metadata": {
  "kernelspec": {
   "display_name": "Python 3",
   "language": "python",
   "name": "python3"
  },
  "language_info": {
   "codemirror_mode": {
    "name": "ipython",
    "version": 3
   },
   "file_extension": ".py",
   "mimetype": "text/x-python",
   "name": "python",
   "nbconvert_exporter": "python",
   "pygments_lexer": "ipython3",
   "version": "3.6.3"
  }
 },
 "nbformat": 4,
 "nbformat_minor": 2
}
