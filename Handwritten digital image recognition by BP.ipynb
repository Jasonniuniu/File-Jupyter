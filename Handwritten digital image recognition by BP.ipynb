{
 "cells": [
  {
   "cell_type": "code",
   "execution_count": 11,
   "metadata": {},
   "outputs": [
    {
     "name": "stdout",
     "output_type": "stream",
     "text": [
      "(1797, 64)\n"
     ]
    },
    {
     "data": {
      "text/plain": [
       "<matplotlib.figure.Figure at 0x24f4b27bdd8>"
      ]
     },
     "metadata": {},
     "output_type": "display_data"
    },
    {
     "data": {
      "image/png": "[encoded data removed]",
      "text/plain": [
       "<matplotlib.figure.Figure at 0x24f4b44a588>"
      ]
     },
     "metadata": {},
     "output_type": "display_data"
    }
   ],
   "source": [
    "from sklearn.datasets import load_digits\n",
    "import pylab as pl\n",
    "\n",
    "digits=load_digits()\n",
    "print(digits.data.shape) #打印出数据集的形状\n",
    "\n",
    "pl.gray()   #灰度化\n",
    "pl.matshow(digits.images[8]) #输出第8行的图片模样\n",
    "pl.title('Output digits data set (1797*64) image of the 8 row.')\n",
    "pl.show()"
   ]
  },
  {
   "cell_type": "code",
   "execution_count": 11,
   "metadata": {},
   "outputs": [
    {
     "name": "stdout",
     "output_type": "stream",
     "text": [
      "start\n",
      "epoch： 0 accuracy： 0.0866666666667\n",
      "epoch： 1000 accuracy： 0.688888888889\n",
      "epoch： 2000 accuracy： 0.748888888889\n",
      "epoch： 3000 accuracy： 0.762222222222\n",
      "epoch： 4000 accuracy： 0.835555555556\n",
      "epoch： 5000 accuracy： 0.893333333333\n",
      "epoch： 6000 accuracy： 0.922222222222\n",
      "epoch： 7000 accuracy： 0.928888888889\n",
      "epoch： 8000 accuracy： 0.933333333333\n",
      "epoch： 9000 accuracy： 0.94\n",
      "epoch： 10000 accuracy： 0.944444444444\n",
      "epoch： 11000 accuracy： 0.944444444444\n",
      "epoch： 12000 accuracy： 0.948888888889\n",
      "epoch： 13000 accuracy： 0.944444444444\n",
      "epoch： 14000 accuracy： 0.948888888889\n",
      "epoch： 15000 accuracy： 0.951111111111\n",
      "epoch： 16000 accuracy： 0.955555555556\n",
      "epoch： 17000 accuracy： 0.96\n",
      "epoch： 18000 accuracy： 0.96\n",
      "epoch： 19000 accuracy： 0.964444444444\n",
      "epoch： 20000 accuracy： 0.957777777778\n",
      "epoch： 21000 accuracy： 0.96\n",
      "epoch： 22000 accuracy： 0.962222222222\n",
      "epoch： 23000 accuracy： 0.962222222222\n",
      "epoch： 24000 accuracy： 0.957777777778\n",
      "epoch： 25000 accuracy： 0.962222222222\n",
      "epoch： 26000 accuracy： 0.957777777778\n",
      "epoch： 27000 accuracy： 0.962222222222\n",
      "epoch： 28000 accuracy： 0.962222222222\n",
      "epoch： 29000 accuracy： 0.966666666667\n",
      "epoch： 30000 accuracy： 0.96\n"
     ]
    },
    {
     "data": {
      "image/png": "[encoded data removed]",
      "text/plain": [
       "<matplotlib.figure.Figure at 0x268c189af98>"
      ]
     },
     "metadata": {},
     "output_type": "display_data"
    },
    {
     "name": "stdout",
     "output_type": "stream",
     "text": [
      "over\n"
     ]
    }
   ],
   "source": [
    "#DL之NN：基于sklearn自带手写数字图片识别数据集+自定义NN类(三层64→100→10)实现97.5%准确率\n",
    "#输入64+1(偏置)个神经元，隐藏层神经元个数可以自定义，输出层10个神经元\n",
    "import numpy as np  \n",
    "from sklearn.datasets import load_digits              #sklearn自带数据集\n",
    "from sklearn.metrics import confusion_matrix, classification_report   \n",
    "from sklearn.preprocessing import LabelBinarizer      #标签二值化\n",
    "from sklearn.cross_validation import train_test_split  #将数据切分分训练数据和测试数据\n",
    "import matplotlib.pyplot as plt \n",
    "\n",
    " \n",
    "def sigmoid(x):\n",
    "    return 1/(1+np.exp(-x))\n",
    "def dsigmoid(x):\n",
    "    return x*(1-x)\n",
    "\n",
    "class NeuralNetwork:    #定义神经网络类，初始化的时候先传入一个层，\n",
    "    def __init__(self,layers): #64,100,10\n",
    "        self.V=np.random.random((layers[0]+1,layers[1]+1))*2-1  #权值初始化[-1,1],都要加一个偏置神经元    \n",
    "        self.W=np.random.random((layers[1]+1,layers[2]))*2-1              #2个权值矩阵\n",
    "    def train(self,X,y,lr=0.11,epochs=10000):\n",
    "        #添加偏置，最初的数据64上需额外加入偏置列\n",
    "        temp=np.ones([X.shape[0],X.shape[1]+1])   #\n",
    "        temp[:,0:-1]=X #该矩阵所有行、0列到-1列\n",
    "        X=temp   #通过转换行没有变，但是多了一列\n",
    "        \n",
    "        accuracys=[]\n",
    "        for n in range(epochs+1): #加快训练的思想：T1、假如要训练10000个数据，要分批次训练(100组*100个)\n",
    "            i=np.random.randint(X.shape[0])  #T2、从训练集随机选取一行数据进行训练\n",
    "            x=[X[i]]\n",
    "            x=np.atleast_2d(x) #将随机选取数据转为2维数据\n",
    "            \n",
    "            L1=sigmoid(np.dot(x,self.V)) #隐藏层输出\n",
    "            L2=sigmoid(np.dot(L1,self.W)) #输出层输出\n",
    "            \n",
    "            L2_delta=(y[i]-L2)*dsigmoid(L2)   #Y.T就是Y的转置\n",
    "            L1_delta=L2_delta.dot(self.W.T)*dsigmoid(L1)\n",
    "            #改变权值的调整\n",
    "            self.W +=lr*L1.T.dot(L2_delta)\n",
    "            self.V +=lr*x.T.dot(L1_delta)\n",
    "            \n",
    "            #每训练1000次预测一次准确率\n",
    "            if n%1000 ==0:\n",
    "                predictions=[]\n",
    "                for j in range(X_test.shape[0]):\n",
    "                    o=self.predict(X_test[j])         #把测试的数据一个个放入\n",
    "                    predictions.append(np.argmax(o)) #找到二值化后最大的数值即1在哪个位置\n",
    "                accuracy=np.mean(np.equal(predictions,y_test)) #两者对比，再取均值\n",
    "                accuracys.append(accuracy)\n",
    "                print(\"epoch：\",n,\"accuracy：\",accuracy)\n",
    "        xdata=np.linspace(0,30,num=len(accuracys))  \n",
    "        plt.figure()  \n",
    "        plt.plot(xdata,accuracys,'b^')\n",
    "        plt.plot(xdata,accuracys,'r')\n",
    "        plt.xlabel('训练组数(1000轮/组)')\n",
    "        plt.ylabel('测试准确率')\n",
    "\n",
    "        plt.rcParams['font.sans-serif']=['SimHei']  #手动添加中文字体，或者['font.sans-serif'] = ['FangSong']  \n",
    "        plt.rcParams['axes.unicode_minus'] = False  #对坐标轴的负号进行正常显示  \n",
    "        plt.title('DL之NN：基于sklearn自带手写数字图片识别数据集+自定义NN类(三层64→100→10)实现97.5%准确率——Jason Niu')          #添加标题，标题默认输出英文  \n",
    "        plt.show()     \n",
    "\n",
    "                \n",
    "    def predict(self,x):  #预测函数，也需要先添加偏置\n",
    "        #添加偏置，最初的数据64上需额外加入偏置列\n",
    "        temp=np.ones(x.shape[0]+1)   #\n",
    "        temp[0:-1]=x #该矩阵的0列到-1列\n",
    "        x=temp   #通过转换行没有变，但是多了一列\n",
    "        x=np.atleast_2d(x) #转为2维数据\n",
    "\n",
    "        L1=sigmoid(np.dot(x,self.V)) #隐藏层输出\n",
    "        L2=sigmoid(np.dot(L1,self.W)) #输出层输出\n",
    "        return L2\n",
    "    \n",
    "digits = load_digits()  #下载数据集\n",
    "X = digits.data         #输入数据\n",
    "y = digits.target       #标签\n",
    "#输入数据归一化：把最初的数据都变为[0~1]之间的数据\n",
    "X -= X.min()   \n",
    "X /= X.max()  \n",
    "nn = NeuralNetwork([64, 100, 10]) #构建神经网络，神经元个数\n",
    "X_train, X_test, y_train, y_test = train_test_split(X, y)  #分割数据，75%为训练25%为测试\n",
    "\n",
    "#对标签二值化，将输出变为神经网络的风格：比如若输出3→0001000000\n",
    "labels_train = LabelBinarizer().fit_transform(y_train)  \n",
    "labels_test = LabelBinarizer().fit_transform(y_test)\n",
    "\n",
    "print (\"start\")  \n",
    "nn.train(X_train, labels_train, epochs=30000)   \n",
    "print (\"over\")  \n"
   ]
  },
  {
   "cell_type": "code",
   "execution_count": null,
   "metadata": {
    "collapsed": true
   },
   "outputs": [],
   "source": []
  },
  {
   "cell_type": "code",
   "execution_count": null,
   "metadata": {
    "collapsed": true
   },
   "outputs": [],
   "source": []
  }
 ],
 "metadata": {
  "kernelspec": {
   "display_name": "Python 3",
   "language": "python",
   "name": "python3"
  },
  "language_info": {
   "codemirror_mode": {
    "name": "ipython",
    "version": 3
   },
   "file_extension": ".py",
   "mimetype": "text/x-python",
   "name": "python",
   "nbconvert_exporter": "python",
   "pygments_lexer": "ipython3",
   "version": "3.6.3"
  }
 },
 "nbformat": 4,
 "nbformat_minor": 2
}
